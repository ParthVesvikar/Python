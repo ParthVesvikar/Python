{
 "cells": [
  {
   "cell_type": "code",
   "execution_count": 18,
   "id": "8223d09f",
   "metadata": {},
   "outputs": [
    {
     "name": "stdout",
     "output_type": "stream",
     "text": [
      "2\n",
      "Its head.\n"
     ]
    }
   ],
   "source": [
    "import random\n",
    "coin= random.randint(0,2)\n",
    "print(coin)\n",
    "if coin == 0:\n",
    "    print(\"Its tail.\")\n",
    "else:\n",
    "    print(\"Its head.\")"
   ]
  },
  {
   "cell_type": "code",
   "execution_count": null,
   "id": "80d67a3b",
   "metadata": {},
   "outputs": [],
   "source": []
  },
  {
   "cell_type": "code",
   "execution_count": null,
   "id": "b72623bb",
   "metadata": {},
   "outputs": [],
   "source": []
  }
 ],
 "metadata": {
  "kernelspec": {
   "display_name": "Python 3 (ipykernel)",
   "language": "python",
   "name": "python3"
  },
  "language_info": {
   "codemirror_mode": {
    "name": "ipython",
    "version": 3
   },
   "file_extension": ".py",
   "mimetype": "text/x-python",
   "name": "python",
   "nbconvert_exporter": "python",
   "pygments_lexer": "ipython3",
   "version": "3.10.0"
  }
 },
 "nbformat": 4,
 "nbformat_minor": 5
}
