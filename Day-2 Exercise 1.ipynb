{
 "cells": [
  {
   "cell_type": "code",
   "execution_count": 2,
   "id": "dbc42b26",
   "metadata": {},
   "outputs": [
    {
     "name": "stdout",
     "output_type": "stream",
     "text": [
      "Enter  two digit number:/n34\n",
      "7\n"
     ]
    }
   ],
   "source": [
    "two_digit_number=input(\"Enter  two digit number:/n\")\n",
    "addition_of_two_digit = int(two_digit_number[0])+int(two_digit_number[1])\n",
    "print(addition_of_two_digit)"
   ]
  },
  {
   "cell_type": "code",
   "execution_count": null,
   "id": "56ae7ab1",
   "metadata": {},
   "outputs": [],
   "source": []
  }
 ],
 "metadata": {
  "kernelspec": {
   "display_name": "Python 3 (ipykernel)",
   "language": "python",
   "name": "python3"
  },
  "language_info": {
   "codemirror_mode": {
    "name": "ipython",
    "version": 3
   },
   "file_extension": ".py",
   "mimetype": "text/x-python",
   "name": "python",
   "nbconvert_exporter": "python",
   "pygments_lexer": "ipython3",
   "version": "3.10.0"
  }
 },
 "nbformat": 4,
 "nbformat_minor": 5
}
