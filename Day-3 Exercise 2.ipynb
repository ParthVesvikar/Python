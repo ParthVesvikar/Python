{
 "cells": [
  {
   "cell_type": "code",
   "execution_count": 11,
   "id": "30fcedd3",
   "metadata": {},
   "outputs": [
    {
     "name": "stdout",
     "output_type": "stream",
     "text": [
      "Enter height: 1.75\n",
      "Enter weight: 85\n",
      "Your BMI is 27.76,you are slightly overweight.\n"
     ]
    }
   ],
   "source": [
    "hieght = float(input(\"Enter height: \"))\n",
    "weight = float(input(\"Enter weight: \"))\n",
    "bmi = weight/(height**2)\n",
    "round_bmi = round(bmi,2)\n",
    "if (round_bmi<18.5):\n",
    "    print(f\"Your BMI is {round_bmi},you are underweight.\")\n",
    "elif (round_bmi<25):\n",
    "    print(f\"Your BMI is {round_bmi},you are normal weight.\")\n",
    "elif (round_bmi<30):\n",
    "    print(f\"Your BMI is {round_bmi},you are slightly overweight.\")\n",
    "elif (round_bmi<35):\n",
    "    print(f\"Your BMI is {round_bmi},you are obese.\")\n",
    "else:\n",
    "    print(\"You are clinically obese\")"
   ]
  },
  {
   "cell_type": "code",
   "execution_count": null,
   "id": "b4c81fd7",
   "metadata": {},
   "outputs": [],
   "source": []
  }
 ],
 "metadata": {
  "kernelspec": {
   "display_name": "Python 3 (ipykernel)",
   "language": "python",
   "name": "python3"
  },
  "language_info": {
   "codemirror_mode": {
    "name": "ipython",
    "version": 3
   },
   "file_extension": ".py",
   "mimetype": "text/x-python",
   "name": "python",
   "nbconvert_exporter": "python",
   "pygments_lexer": "ipython3",
   "version": "3.10.0"
  }
 },
 "nbformat": 4,
 "nbformat_minor": 5
}
