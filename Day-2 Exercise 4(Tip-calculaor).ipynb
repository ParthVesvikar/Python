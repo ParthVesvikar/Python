{
 "cells": [
  {
   "cell_type": "code",
   "execution_count": 2,
   "id": "aef7d4ba",
   "metadata": {},
   "outputs": [
    {
     "name": "stdout",
     "output_type": "stream",
     "text": [
      "Welcome to the Tip calculator\n",
      "Enter your bill/n150\n",
      "How much tip would you like to give? 15 ,12 or 1012\n",
      "168.0\n",
      "How many people you wanna split?\n",
      "5\n",
      "Each person should pay : 33.6\n"
     ]
    }
   ],
   "source": [
    "print(\"Welcome to the Tip calculator\")\n",
    "bill = float(input(\"Enter your bill/n\"))\n",
    "tip = int(input(\"How much tip would you like to give? 15 ,12 or 10\"))\n",
    "total_tip = tip/100*bill\n",
    "total_bill = bill+total_tip\n",
    "print(total_bill)\n",
    "people = int(input(\"How many people you wanna split?\\n\"))\n",
    "Each_person_bill = total_bill/people\n",
    "print(f\"Each person should pay : {Each_person_bill}\")"
   ]
  },
  {
   "cell_type": "code",
   "execution_count": null,
   "id": "e6701f10",
   "metadata": {},
   "outputs": [],
   "source": []
  }
 ],
 "metadata": {
  "kernelspec": {
   "display_name": "Python 3 (ipykernel)",
   "language": "python",
   "name": "python3"
  },
  "language_info": {
   "codemirror_mode": {
    "name": "ipython",
    "version": 3
   },
   "file_extension": ".py",
   "mimetype": "text/x-python",
   "name": "python",
   "nbconvert_exporter": "python",
   "pygments_lexer": "ipython3",
   "version": "3.10.0"
  }
 },
 "nbformat": 4,
 "nbformat_minor": 5
}
