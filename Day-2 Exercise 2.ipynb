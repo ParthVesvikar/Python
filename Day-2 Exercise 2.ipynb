{
 "cells": [
  {
   "cell_type": "code",
   "execution_count": 5,
   "id": "2d265406",
   "metadata": {},
   "outputs": [
    {
     "name": "stdout",
     "output_type": "stream",
     "text": [
      "Enter weight in kg\n",
      "80\n",
      "Enter height in meters\n",
      "1.75\n",
      "BMI is : 26.0\n"
     ]
    }
   ],
   "source": [
    "Weight = input(\"Enter weight in kg\\n\")\n",
    "Height = input(\"Enter height in meters\\n\")\n",
    "BMI = float(Weight)//(float(Height)**2)\n",
    "print(\"BMI is :\" ,BMI)"
   ]
  },
  {
   "cell_type": "code",
   "execution_count": null,
   "id": "e22912a2",
   "metadata": {},
   "outputs": [],
   "source": []
  }
 ],
 "metadata": {
  "kernelspec": {
   "display_name": "Python 3 (ipykernel)",
   "language": "python",
   "name": "python3"
  },
  "language_info": {
   "codemirror_mode": {
    "name": "ipython",
    "version": 3
   },
   "file_extension": ".py",
   "mimetype": "text/x-python",
   "name": "python",
   "nbconvert_exporter": "python",
   "pygments_lexer": "ipython3",
   "version": "3.10.0"
  }
 },
 "nbformat": 4,
 "nbformat_minor": 5
}
