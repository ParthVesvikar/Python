{
 "cells": [
  {
   "cell_type": "code",
   "execution_count": 1,
   "id": "212943d9",
   "metadata": {},
   "outputs": [
    {
     "ename": "ValueError",
     "evalue": "invalid literal for int() with base 10: ''",
     "output_type": "error",
     "traceback": [
      "\u001b[1;31m---------------------------------------------------------------------------\u001b[0m",
      "\u001b[1;31mValueError\u001b[0m                                Traceback (most recent call last)",
      "\u001b[1;32mc:\\Users\\parth\\OneDrive\\Desktop\\100 days\\Untitled.ipynb Cell 1'\u001b[0m in \u001b[0;36m<cell line: 3>\u001b[1;34m()\u001b[0m\n\u001b[0;32m      <a href='vscode-notebook-cell:/c%3A/Users/parth/OneDrive/Desktop/100%20days/Untitled.ipynb#ch0000000?line=0'>1</a>\u001b[0m \u001b[39mimport\u001b[39;00m \u001b[39mrandom\u001b[39;00m\n\u001b[0;32m      <a href='vscode-notebook-cell:/c%3A/Users/parth/OneDrive/Desktop/100%20days/Untitled.ipynb#ch0000000?line=1'>2</a>\u001b[0m game_option \u001b[39m=\u001b[39m [\u001b[39m'\u001b[39m\u001b[39mrock\u001b[39m\u001b[39m'\u001b[39m,\u001b[39m'\u001b[39m\u001b[39mpaper\u001b[39m\u001b[39m'\u001b[39m,\u001b[39m'\u001b[39m\u001b[39mscissor\u001b[39m\u001b[39m'\u001b[39m]\n\u001b[1;32m----> <a href='vscode-notebook-cell:/c%3A/Users/parth/OneDrive/Desktop/100%20days/Untitled.ipynb#ch0000000?line=2'>3</a>\u001b[0m user_choice \u001b[39m=\u001b[39m\u001b[39mint\u001b[39;49m(\u001b[39minput\u001b[39;49m(\u001b[39m\"\u001b[39;49m\u001b[39mEnter your choice ?Type 0 for Rock,1 for paper,and 2 for scissor\u001b[39;49m\u001b[39m\"\u001b[39;49m))\n\u001b[0;32m      <a href='vscode-notebook-cell:/c%3A/Users/parth/OneDrive/Desktop/100%20days/Untitled.ipynb#ch0000000?line=3'>4</a>\u001b[0m \u001b[39mprint\u001b[39m(game_option[user_choice])\n\u001b[0;32m      <a href='vscode-notebook-cell:/c%3A/Users/parth/OneDrive/Desktop/100%20days/Untitled.ipynb#ch0000000?line=4'>5</a>\u001b[0m computer_choice \u001b[39m=\u001b[39m random\u001b[39m.\u001b[39mrandint(\u001b[39m0\u001b[39m,\u001b[39m2\u001b[39m)\n",
      "\u001b[1;31mValueError\u001b[0m: invalid literal for int() with base 10: ''"
     ]
    }
   ],
   "source": [
    "import random\n",
    "game_option = ['rock','paper','scissor']\n",
    "user_choice =int(input(\"Enter your choice ?Type 0 for Rock,1 for paper,and 2 for scissor\"))\n",
    "print(game_option[user_choice])\n",
    "computer_choice = random.randint(0,2)\n",
    "print(game_option[computer_choice])\n",
    "if user_choice>=3 and user_choice<0 :\n",
    "    print(\"invalid.\")\n",
    "elif user_choice == 0 and computer_choice == 2:\n",
    "    print(\"User won!!\")\n",
    "elif computer_choice == 0 and user_choice == 2:\n",
    "    print(\"User lose!!\")\n",
    "elif computer_choice < user_choice:\n",
    "    print(\"lose\")\n",
    "elif user_choice > computer_choice:\n",
    "    print(\"won\")\n",
    "elif user_choice == computer_choice:\n",
    "    print(\"draw\")\n",
    "\n",
    "\n",
    "\n",
    "\n",
    "\n"
   ]
  },
  {
   "cell_type": "code",
   "execution_count": null,
   "id": "5a9f6b06",
   "metadata": {},
   "outputs": [],
   "source": []
  },
  {
   "cell_type": "code",
   "execution_count": null,
   "id": "86115219",
   "metadata": {},
   "outputs": [],
   "source": [
    "1"
   ]
  }
 ],
 "metadata": {
  "kernelspec": {
   "display_name": "Python 3 (ipykernel)",
   "language": "python",
   "name": "python3"
  },
  "language_info": {
   "codemirror_mode": {
    "name": "ipython",
    "version": 3
   },
   "file_extension": ".py",
   "mimetype": "text/x-python",
   "name": "python",
   "nbconvert_exporter": "python",
   "pygments_lexer": "ipython3",
   "version": "3.10.0"
  }
 },
 "nbformat": 4,
 "nbformat_minor": 5
}
