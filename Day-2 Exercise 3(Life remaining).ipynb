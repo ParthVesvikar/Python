{
 "cells": [
  {
   "cell_type": "code",
   "execution_count": 3,
   "id": "d0c259ce",
   "metadata": {},
   "outputs": [
    {
     "name": "stdout",
     "output_type": "stream",
     "text": [
      "You have 24820 days,You have 3536 weeks,You have 816 months left. \n"
     ]
    }
   ],
   "source": [
    "age = input(\"Enter your age: /n\")\n",
    "age_in_int = int(age)\n",
    "years_remaining = 90-age_in_int \n",
    "days_remaining = years_remaining *365\n",
    "weeks_remaining = years_remaining * 52\n",
    "months_remaining = years_remaining * 12\n",
    "print(f\"You have {days_remaining} days,You have {weeks_remaining} weeks,You have {months_remaining} months left. \")"
   ]
  },
  {
   "cell_type": "code",
   "execution_count": null,
   "id": "bef1af4a",
   "metadata": {},
   "outputs": [],
   "source": []
  }
 ],
 "metadata": {
  "kernelspec": {
   "display_name": "Python 3 (ipykernel)",
   "language": "python",
   "name": "python3"
  },
  "language_info": {
   "codemirror_mode": {
    "name": "ipython",
    "version": 3
   },
   "file_extension": ".py",
   "mimetype": "text/x-python",
   "name": "python",
   "nbconvert_exporter": "python",
   "pygments_lexer": "ipython3",
   "version": "3.10.0"
  }
 },
 "nbformat": 4,
 "nbformat_minor": 5
}
