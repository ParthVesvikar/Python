{
 "cells": [
  {
   "cell_type": "code",
   "execution_count": 18,
   "id": "43badfd3",
   "metadata": {},
   "outputs": [
    {
     "name": "stdout",
     "output_type": "stream",
     "text": [
      "Enter namesram, sham, dan\n",
      "sham\n"
     ]
    }
   ],
   "source": [
    "import random\n",
    "names = input(\"Enter names\")\n",
    "names_item = names.split(\", \")\n",
    "names_len = len(names_item)\n",
    "random_without_choicemodule = random.randint(0,names_len-1)\n",
    "person_will_pay = names_item[random_without_choicemodule]\n",
    "print(person_will_pay)"
   ]
  },
  {
   "cell_type": "code",
   "execution_count": null,
   "id": "767ed64f",
   "metadata": {},
   "outputs": [],
   "source": []
  }
 ],
 "metadata": {
  "kernelspec": {
   "display_name": "Python 3 (ipykernel)",
   "language": "python",
   "name": "python3"
  },
  "language_info": {
   "codemirror_mode": {
    "name": "ipython",
    "version": 3
   },
   "file_extension": ".py",
   "mimetype": "text/x-python",
   "name": "python",
   "nbconvert_exporter": "python",
   "pygments_lexer": "ipython3",
   "version": "3.10.0"
  }
 },
 "nbformat": 4,
 "nbformat_minor": 5
}
