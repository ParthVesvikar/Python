{
 "cells": [
  {
   "cell_type": "code",
   "execution_count": 2,
   "id": "0532f16b",
   "metadata": {},
   "outputs": [
    {
     "name": "stdout",
     "output_type": "stream",
     "text": [
      "Wlcome To Treasure Island!!\n",
      "Your mission is to find treasure.\n",
      "You're at a crossroad. Where do you want to go? Type \"left\" or \"right\"left\n",
      "You've come to a lake. There is an island in the middle of the lake. Type \"wait\" to wait for a boat. Type \"swim\" to swim across.swim\n",
      "You arrive at the island unharmed. There is a house with 3 doors. One red, one yellow and one blue. Which colour do you choose?blue\n",
      "You found the treasure! You Win!\n"
     ]
    }
   ],
   "source": [
    "print(\"Wlcome To Treasure Island!!\")\n",
    "print(\"Your mission is to find treasure.\")\n",
    "a=input('You\\'re at a crossroad. Where do you want to go? Type \"left\" or \"right\"')\n",
    "if a==\"left\":\n",
    "    b=input('You\\'ve come to a lake. There is an island in the middle of the lake. Type \"wait\" to wait for a boat. Type \"swim\" to swim across.')\n",
    "    if b==\"swim\":\n",
    "        c=input(\"You arrive at the island unharmed. There is a house with 3 doors. One red, one yellow and one blue. Which colour do you choose?\")\n",
    "        if c == \"blue\":\n",
    "            print(\"You found the treasure! You Win!\")\n",
    "        elif c == \"red\":\n",
    "            print(\"It's a room full of fire. Game Over.\")\n",
    "        elif c == \"yellow\":\n",
    "            print(\"You enter a room of beasts. Game Over.\")\n",
    "        else:\n",
    "            print(\"You chose a door that doesn't exist. Game Over.\")\n",
    "    else:\n",
    "        print(\"You get attacked by an angry trout. Game Over.\")\n",
    "else:\n",
    "    print(\"You fell into a hole. Game Over.\")"
   ]
  },
  {
   "cell_type": "code",
   "execution_count": null,
   "id": "5ef143d0",
   "metadata": {},
   "outputs": [],
   "source": []
  }
 ],
 "metadata": {
  "interpreter": {
   "hash": "b1c5dd4e0ef53204111bf2d9bd63a9225ae429920f618a46528538e6c25c284b"
  },
  "kernelspec": {
   "display_name": "Python 3 (ipykernel)",
   "language": "python",
   "name": "python3"
  },
  "language_info": {
   "codemirror_mode": {
    "name": "ipython",
    "version": 3
   },
   "file_extension": ".py",
   "mimetype": "text/x-python",
   "name": "python",
   "nbconvert_exporter": "python",
   "pygments_lexer": "ipython3",
   "version": "3.10.0"
  }
 },
 "nbformat": 4,
 "nbformat_minor": 5
}
