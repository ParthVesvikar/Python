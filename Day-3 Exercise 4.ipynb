{
 "cells": [
  {
   "cell_type": "code",
   "execution_count": 1,
   "id": "c217e562",
   "metadata": {},
   "outputs": [
    {
     "name": "stdout",
     "output_type": "stream",
     "text": [
      "Enter size of your pizza 's','m','l':s\n",
      "Do you want pepperoni? Y or Ny\n",
      "Do u want chesse? Y or Ny\n",
      "bill = 18\n"
     ]
    }
   ],
   "source": [
    "size = input(\"Enter size of your pizza 's','m','l':\")\n",
    "add_pepperoni=input(\"Do you want pepperoni? Y or N\")\n",
    "add_chesse=input(\"Do u want chesse? Y or N\")\n",
    "bill=0\n",
    "if size == 's':\n",
    "    bill+=15\n",
    "if size == 'm':\n",
    "    bill+=20\n",
    "if size =='l':\n",
    "    bill+=25\n",
    "if add_pepperoni == 'y':\n",
    "    if size == 's':\n",
    "        bill+=2\n",
    "    else:\n",
    "        bill+=3\n",
    "if add_chesse == 'y':\n",
    "    bill+=1\n",
    "\n",
    "print(f\"bill = {bill}\")"
   ]
  },
  {
   "cell_type": "code",
   "execution_count": null,
   "id": "b925317e",
   "metadata": {},
   "outputs": [],
   "source": []
  }
 ],
 "metadata": {
  "kernelspec": {
   "display_name": "Python 3 (ipykernel)",
   "language": "python",
   "name": "python3"
  },
  "language_info": {
   "codemirror_mode": {
    "name": "ipython",
    "version": 3
   },
   "file_extension": ".py",
   "mimetype": "text/x-python",
   "name": "python",
   "nbconvert_exporter": "python",
   "pygments_lexer": "ipython3",
   "version": "3.10.0"
  }
 },
 "nbformat": 4,
 "nbformat_minor": 5
}
