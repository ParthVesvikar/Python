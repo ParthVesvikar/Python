{
 "cells": [
  {
   "cell_type": "code",
   "execution_count": 5,
   "id": "ca49cb14",
   "metadata": {},
   "outputs": [
    {
     "name": "stdout",
     "output_type": "stream",
     "text": [
      "Enter the 1st number 2\n",
      "Enter the 2nd number 4\n",
      "a = 4 b=2\n"
     ]
    }
   ],
   "source": [
    "a=int(input(\"Enter the 1st number \"))\n",
    "b=int(input(\"Enter the 2nd number \"))\n",
    "c=a\n",
    "a=b\n",
    "b=c\n",
    "print(\"a = \"+str(a),\"b=\" +b str(b))\n"
   ]
  },
  {
   "cell_type": "code",
   "execution_count": null,
   "id": "75dd713b",
   "metadata": {},
   "outputs": [],
   "source": [
    "#we can do directly by using 1stvariable,2nd variable = 2ndvariable,1stvariable"
   ]
  },
  {
   "cell_type": "code",
   "execution_count": 10,
   "id": "f12dab12",
   "metadata": {},
   "outputs": [
    {
     "name": "stdout",
     "output_type": "stream",
     "text": [
      "Enter the 1st number 3\n",
      "Enter the 2nd number 4\n",
      "a=4 \n",
      "b=3\n"
     ]
    }
   ],
   "source": [
    "a=int(input(\"Enter the 1st number \"))\n",
    "b=int(input(\"Enter the 2nd number \"))\n",
    "a,b=b,a\n",
    "print(\"a=\"+str(a),\"\\nb=\"+str(b))"
   ]
  }
 ],
 "metadata": {
  "kernelspec": {
   "display_name": "Python 3 (ipykernel)",
   "language": "python",
   "name": "python3"
  },
  "language_info": {
   "codemirror_mode": {
    "name": "ipython",
    "version": 3
   },
   "file_extension": ".py",
   "mimetype": "text/x-python",
   "name": "python",
   "nbconvert_exporter": "python",
   "pygments_lexer": "ipython3",
   "version": "3.10.0"
  }
 },
 "nbformat": 4,
 "nbformat_minor": 5
}
