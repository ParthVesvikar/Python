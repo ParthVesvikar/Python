{
 "cells": [
  {
   "cell_type": "code",
   "execution_count": null,
   "id": "81075ff3",
   "metadata": {},
   "outputs": [
    {
     "name": "stdout",
     "output_type": "stream",
     "text": [
      "Love Calculator\n",
      "Enter your name: Angela Yu\n"
     ]
    }
   ],
   "source": [
    "print(\"Love Calculator\")\n",
    "name1 = input(\"Enter your name: \")\n",
    "name2 = input(\"Enter name of your loved one: \")\n",
    "add_names = name1+name2\n",
    "name_lower = add_names.lower()\n",
    "t = name_lower.count(\"t\")\n",
    "r = name_lower.count(\"r\")\n",
    "u = name_lower.count(\"u\")\n",
    "e = name_lower.count(\"e\")\n",
    "true = t+r+u+e\n",
    "l=name_lower.count(\"l\")\n",
    "o=name_lower.count(\"o\")\n",
    "v=name_lower.count(\"v\")\n",
    "e=name_lower.count(\"e\")\n",
    "love=l+o+v+e\n",
    "\n",
    "love_score= int(str(true)+str(love))\n",
    "if (love_score>90) and (love_score<10):\n",
    "    print(f\"Your score is {love_score}, you go together like coke and mentos.\")\n",
    "elif(love_score>40) and (love_score<50):\n",
    "    print(f\"Your score is {love_score},you are alright together.\")\n",
    "else:\n",
    "    print(f\"Your score is {love_score}.\")\n",
    "        "
   ]
  },
  {
   "cell_type": "code",
   "execution_count": null,
   "id": "dc50816a",
   "metadata": {},
   "outputs": [],
   "source": []
  }
 ],
 "metadata": {
  "kernelspec": {
   "display_name": "Python 3 (ipykernel)",
   "language": "python",
   "name": "python3"
  },
  "language_info": {
   "codemirror_mode": {
    "name": "ipython",
    "version": 3
   },
   "file_extension": ".py",
   "mimetype": "text/x-python",
   "name": "python",
   "nbconvert_exporter": "python",
   "pygments_lexer": "ipython3",
   "version": "3.10.0"
  }
 },
 "nbformat": 4,
 "nbformat_minor": 5
}
